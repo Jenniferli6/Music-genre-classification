{
  "cells": [
    {
      "cell_type": "code",
      "execution_count": 1,
      "metadata": {
        "id": "ua1hwIWxuDyA"
      },
      "outputs": [],
      "source": [
        "import pandas as pd\n",
        "import numpy as np\n",
        "from scipy.io import wavfile\n",
        "import matplotlib.pyplot as plt"
      ]
    },
    {
      "cell_type": "code",
      "execution_count": 2,
      "metadata": {
        "id": "RZSC56oSHvH2"
      },
      "outputs": [],
      "source": [
        "import torch\n",
        "import torchvision.models as models\n",
        "import torchvision.transforms as transforms\n",
        "from PIL import Image"
      ]
    },
    {
      "cell_type": "code",
      "execution_count": null,
      "metadata": {
        "id": "sOSrBYjhuIsQ"
      },
      "outputs": [],
      "source": [
        "img = np.load('../../100_data/test_spec.npz', allow_pickle=True)\n",
        "X = img['X']\n",
        "y = img['y']"
      ]
    },
    {
      "cell_type": "code",
      "execution_count": 4,
      "metadata": {
        "id": "M-F9p32mH-CB"
      },
      "outputs": [],
      "source": [
        "genre_labels = img['genre_names']"
      ]
    },
    {
      "cell_type": "code",
      "execution_count": 5,
      "metadata": {
        "id": "LXikUDroTYv7"
      },
      "outputs": [],
      "source": [
        "from sklearn.model_selection import train_test_split\n",
        "\n",
        "X_tr, X_te, y_tr, y_te = train_test_split(\n",
        "    X, y, test_size=0.2, random_state=42)"
      ]
    },
    {
      "cell_type": "code",
      "execution_count": 6,
      "metadata": {
        "id": "LPyAN-zxHTcf"
      },
      "outputs": [],
      "source": [
        "X_train = torch.from_numpy(X_tr)\n",
        "y_ohe_tr = torch.from_numpy(y_tr)\n",
        "y_train = torch.argmax(y_ohe_tr, dim=1)\n",
        "\n",
        "X_test = torch.from_numpy(X_te)\n",
        "y_ohe_te = torch.from_numpy(y_te)\n",
        "y_test = torch.argmax(y_ohe_te, dim=1)\n"
      ]
    },
    {
      "cell_type": "code",
      "execution_count": 7,
      "metadata": {
        "id": "Y4sm6n5HNfbX"
      },
      "outputs": [],
      "source": [
        "from torch.utils.data import TensorDataset\n",
        "\n",
        "X_train_perm = X_train.permute(0, 3, 1, 2)  # This changes the shape to [799, 3, 128, 128]\n",
        "\n",
        "# Compute the mean and std for each channel (across the training data)\n",
        "# mean = X_train_perm.mean(dim=[0, 2, 3])  # Mean per channel (R, G, B)\n",
        "# std = X_train_perm.std(dim=[0, 2, 3])    # Std per channel (R, G, B)\n",
        "\n",
        "# Step 3: Normalize the images\n",
        "# X_train_normalized = (X_train_perm - mean[:, None, None]) / std[:, None, None]\n",
        "\n",
        "# Now X_train_normalized contains the normalized images, and you can create the TensorDataset\n",
        "train_dataset_n = TensorDataset(X_train_perm, y_train)\n",
        "\n",
        "X_test_perm = X_test.permute(0, 3, 1, 2)  # Reorder test data dimensions\n",
        "# X_test_normalized = (X_test_perm - mean[:, None, None]) / std[:, None, None]\n",
        "test_dataset = TensorDataset(X_test_perm, y_test)\n"
      ]
    },
    {
      "cell_type": "code",
      "execution_count": 8,
      "metadata": {
        "id": "yAnzTwK6LFuQ"
      },
      "outputs": [],
      "source": [
        "from torch.utils.data import DataLoader\n",
        "\n",
        "train_loader = DataLoader(train_dataset_n, batch_size=32, shuffle=True)\n",
        "test_loader = DataLoader(test_dataset, batch_size=32, shuffle=False)"
      ]
    },
    {
      "cell_type": "markdown",
      "metadata": {
        "id": "8waZWPqLqm8_"
      },
      "source": [
        "Mix (Some epochs, freeze all but last layer; other epochs, unfreeze everything)"
      ]
    },
    {
      "cell_type": "code",
      "execution_count": 9,
      "metadata": {
        "colab": {
          "base_uri": "https://localhost:8080/"
        },
        "id": "SM9NM71LpAhU",
        "outputId": "c291a19f-2295-4523-e728-9d826d0f886e"
      },
      "outputs": [
        {
          "name": "stderr",
          "output_type": "stream",
          "text": [
            "/usr/local/lib/python3.11/dist-packages/torchvision/models/_utils.py:208: UserWarning: The parameter 'pretrained' is deprecated since 0.13 and may be removed in the future, please use 'weights' instead.\n",
            "  warnings.warn(\n",
            "/usr/local/lib/python3.11/dist-packages/torchvision/models/_utils.py:223: UserWarning: Arguments other than a weight enum or `None` for 'weights' are deprecated since 0.13 and may be removed in the future. The current behavior is equivalent to passing `weights=ResNet18_Weights.IMAGENET1K_V1`. You can also use `weights=ResNet18_Weights.DEFAULT` to get the most up-to-date weights.\n",
            "  warnings.warn(msg)\n",
            "Downloading: \"https://download.pytorch.org/models/resnet18-f37072fd.pth\" to /root/.cache/torch/hub/checkpoints/resnet18-f37072fd.pth\n",
            "100%|██████████| 44.7M/44.7M [00:00<00:00, 169MB/s]\n"
          ]
        },
        {
          "name": "stdout",
          "output_type": "stream",
          "text": [
            "Frozen Epoch [1/15], Loss: 2.3208, Accuracy: 16.40%\n",
            "Frozen Epoch [2/15], Loss: 1.8704, Accuracy: 37.30%\n",
            "Frozen Epoch [3/15], Loss: 1.6309, Accuracy: 46.43%\n",
            "Frozen Epoch [4/15], Loss: 1.4818, Accuracy: 53.32%\n",
            "Frozen Epoch [5/15], Loss: 1.3160, Accuracy: 58.95%\n",
            "Frozen Epoch [6/15], Loss: 1.2348, Accuracy: 62.20%\n",
            "Frozen Epoch [7/15], Loss: 1.1602, Accuracy: 66.58%\n",
            "Frozen Epoch [8/15], Loss: 1.0937, Accuracy: 66.08%\n",
            "Frozen Epoch [9/15], Loss: 1.0441, Accuracy: 69.09%\n",
            "Frozen Epoch [10/15], Loss: 0.9986, Accuracy: 70.71%\n",
            "Frozen Epoch [11/15], Loss: 0.9639, Accuracy: 71.59%\n",
            "Frozen Epoch [12/15], Loss: 0.9488, Accuracy: 72.09%\n",
            "Frozen Epoch [13/15], Loss: 0.8845, Accuracy: 76.35%\n",
            "Frozen Epoch [14/15], Loss: 0.8447, Accuracy: 77.22%\n",
            "Frozen Epoch [15/15], Loss: 0.8341, Accuracy: 74.34%\n",
            "Unfrozen Epoch [1/5], Loss: 0.8040, Accuracy: 76.97%\n",
            "Unfrozen Epoch [2/5], Loss: 0.5532, Accuracy: 86.73%\n",
            "Unfrozen Epoch [3/5], Loss: 0.4265, Accuracy: 92.74%\n",
            "Unfrozen Epoch [4/5], Loss: 0.3141, Accuracy: 97.12%\n",
            "Unfrozen Epoch [5/5], Loss: 0.2554, Accuracy: 98.12%\n",
            "Fine-tuning complete.\n"
          ]
        }
      ],
      "source": [
        "import torch\n",
        "import torch.nn as nn\n",
        "import torch.optim as optim\n",
        "from torchvision import models\n",
        "\n",
        "res1 = models.resnet18(pretrained=True)\n",
        "res1.fc = torch.nn.Linear(res1.fc.in_features, 10) # 10 genres\n",
        "\n",
        "for param in res1.parameters():\n",
        "    param.requires_grad = False # Freeze all layers\n",
        "\n",
        "for param in res1.fc.parameters():\n",
        "  param.requires_grad = True # Unfreeze last layer\n",
        "\n",
        "\n",
        "# Move model to GPU if available\n",
        "device = torch.device(\"cuda\" if torch.cuda.is_available() else \"cpu\")\n",
        "res1 = res1.to(device)\n",
        "\n",
        "# 1. Loss function and optimizer\n",
        "criterion = nn.CrossEntropyLoss()\n",
        "optimizer = optim.Adam(res1.fc.parameters(), lr=0.001)  # fine-tune only last layer\n",
        "\n",
        "# 2. Training loop\n",
        "num_frozen_epochs = 15\n",
        "\n",
        "for epoch in range(num_frozen_epochs):\n",
        "    res1.train()\n",
        "    running_loss = 0.0\n",
        "    correct = 0\n",
        "    total = 0\n",
        "\n",
        "    for images, labels in train_loader:\n",
        "        images = images.to(device).type(torch.float32)\n",
        "        labels = labels.to(device)\n",
        "\n",
        "        # Zero the gradients\n",
        "        optimizer.zero_grad()\n",
        "\n",
        "        # Forward pass\n",
        "        outputs = res1(images)\n",
        "\n",
        "        # Loss calculation\n",
        "        loss = criterion(outputs, labels)\n",
        "\n",
        "        # Backward pass and optimization\n",
        "        loss.backward()\n",
        "        optimizer.step()\n",
        "\n",
        "        running_loss += loss.item()\n",
        "        _, predicted = torch.max(outputs.data, 1)\n",
        "        total += labels.size(0)\n",
        "        correct += (predicted == labels).sum().item()\n",
        "\n",
        "    epoch_loss = running_loss / len(train_loader)\n",
        "    epoch_acc = 100 * correct / total\n",
        "    print(f\"Frozen Epoch [{epoch+1}/{num_frozen_epochs}], Loss: {epoch_loss:.4f}, Accuracy: {epoch_acc:.2f}%\")\n",
        "\n",
        "for param in res1.parameters():\n",
        "    param.requires_grad = True # Unfreeze all layers\n",
        "\n",
        "num_unfrozen_epochs = 5\n",
        "optimizer = optim.Adam(res1.parameters(), lr=0.00001) # fine-tune all\n",
        "\n",
        "for param in res1.parameters():\n",
        "    param.requires_grad = True\n",
        "\n",
        "for epoch in range(num_unfrozen_epochs):\n",
        "    res1.train()\n",
        "    running_loss = 0.0\n",
        "    correct = 0\n",
        "    total = 0\n",
        "\n",
        "    for images, labels in train_loader:\n",
        "        images = images.to(device).type(torch.float32)\n",
        "        labels = labels.to(device)\n",
        "\n",
        "        # Zero the gradients\n",
        "        optimizer.zero_grad()\n",
        "\n",
        "        # Forward pass\n",
        "        outputs = res1(images)\n",
        "\n",
        "        # Loss calculation\n",
        "        loss = criterion(outputs, labels)\n",
        "\n",
        "        # Backward pass and optimization\n",
        "        loss.backward()\n",
        "        optimizer.step()\n",
        "\n",
        "        running_loss += loss.item()\n",
        "        _, predicted = torch.max(outputs.data, 1)\n",
        "        total += labels.size(0)\n",
        "        correct += (predicted == labels).sum().item()\n",
        "\n",
        "    epoch_loss = running_loss / len(train_loader)\n",
        "    epoch_acc = 100 * correct / total\n",
        "    print(f\"Unfrozen Epoch [{epoch+1}/{num_unfrozen_epochs}], Loss: {epoch_loss:.4f}, Accuracy: {epoch_acc:.2f}%\")\n",
        "\n",
        "print(\"Fine-tuning complete.\")"
      ]
    },
    {
      "cell_type": "code",
      "execution_count": 10,
      "metadata": {
        "colab": {
          "base_uri": "https://localhost:8080/"
        },
        "id": "-lD85y1Yrbsj",
        "outputId": "e27a1e67-c64e-40f5-923b-0f488b865d04"
      },
      "outputs": [
        {
          "name": "stdout",
          "output_type": "stream",
          "text": [
            "Accuracy: 59.00%\n"
          ]
        }
      ],
      "source": [
        "# Testing\n",
        "res1.eval()\n",
        "\n",
        "with torch.no_grad():\n",
        "    outputs = res1(X_test_perm.to(device).type(torch.float32))\n",
        "    _, predicted = torch.max(outputs.data, 1)\n",
        "    total = y_test.size(0)\n",
        "    correct = (predicted == y_test.to(device)).sum()\n",
        "    acc = 100 * correct / total\n",
        "    print(f\"Accuracy: {acc:.2f}%\")"
      ]
    },
    {
      "cell_type": "code",
      "execution_count": 11,
      "metadata": {
        "colab": {
          "base_uri": "https://localhost:8080/",
          "height": 789
        },
        "id": "nVnyvA3LrwWl",
        "outputId": "7bbedfb4-7bae-4032-a51b-07d971b77d78"
      },
      "outputs": [
        {
          "name": "stdout",
          "output_type": "stream",
          "text": [
            "              precision    recall  f1-score   support\n",
            "\n",
            "       blues       0.65      0.62      0.63        21\n",
            "   classical       0.67      1.00      0.80        12\n",
            "     country       0.59      0.54      0.57        24\n",
            "       disco       0.41      0.55      0.47        22\n",
            "      hiphop       0.61      0.73      0.67        15\n",
            "        jazz       0.90      0.70      0.79        27\n",
            "       metal       0.70      0.78      0.74        18\n",
            "         pop       0.60      0.63      0.62        19\n",
            "      reggae       0.53      0.45      0.49        22\n",
            "        rock       0.15      0.10      0.12        20\n",
            "\n",
            "    accuracy                           0.59       200\n",
            "   macro avg       0.58      0.61      0.59       200\n",
            "weighted avg       0.59      0.59      0.58       200\n",
            "\n"
          ]
        },
        {
          "data": {
            "image/png": "[encoded data removed]",
            "text/plain": [
              "<Figure size 640x480 with 2 Axes>"
            ]
          },
          "metadata": {},
          "output_type": "display_data"
        }
      ],
      "source": [
        "from sklearn.metrics import confusion_matrix, classification_report, ConfusionMatrixDisplay\n",
        "\n",
        "actual = y_test.cpu().numpy()\n",
        "preds = predicted.cpu().numpy()\n",
        "\n",
        "print(classification_report(actual, preds, target_names=genre_labels))\n",
        "cm  = confusion_matrix(actual, preds)\n",
        "disp = ConfusionMatrixDisplay(confusion_matrix=cm, display_labels=genre_labels)\n",
        "disp.plot()\n",
        "plt.xticks(rotation=90)\n",
        "plt.show()"
      ]
    },
    {
      "cell_type": "markdown",
      "metadata": {
        "id": "Qik7pQpXUhNI"
      },
      "source": [
        "Old Stuff"
      ]
    },
    {
      "cell_type": "code",
      "execution_count": null,
      "metadata": {
        "colab": {
          "base_uri": "https://localhost:8080/",
          "height": 211
        },
        "id": "cUzTWOidUhwt",
        "outputId": "90beda7e-fde9-4fb5-8d82-d330c4820902"
      },
      "outputs": [
        {
          "ename": "NameError",
          "evalue": "name 'X_tensor' is not defined",
          "output_type": "error",
          "traceback": [
            "\u001b[0;31m---------------------------------------------------------------------------\u001b[0m",
            "\u001b[0;31mNameError\u001b[0m                                 Traceback (most recent call last)",
            "\u001b[0;32m<ipython-input-12-a185e2f3d2f1>\u001b[0m in \u001b[0;36m<cell line: 0>\u001b[0;34m()\u001b[0m\n\u001b[1;32m      1\u001b[0m \u001b[0;32mfrom\u001b[0m \u001b[0mtorch\u001b[0m\u001b[0;34m.\u001b[0m\u001b[0mutils\u001b[0m\u001b[0;34m.\u001b[0m\u001b[0mdata\u001b[0m \u001b[0;32mimport\u001b[0m \u001b[0mTensorDataset\u001b[0m\u001b[0;34m,\u001b[0m \u001b[0mSubset\u001b[0m\u001b[0;34m,\u001b[0m \u001b[0mrandom_split\u001b[0m\u001b[0;34m\u001b[0m\u001b[0;34m\u001b[0m\u001b[0m\n\u001b[1;32m      2\u001b[0m \u001b[0;34m\u001b[0m\u001b[0m\n\u001b[0;32m----> 3\u001b[0;31m \u001b[0mdataset\u001b[0m \u001b[0;34m=\u001b[0m \u001b[0mTensorDataset\u001b[0m\u001b[0;34m(\u001b[0m\u001b[0mX_tensor\u001b[0m\u001b[0;34m,\u001b[0m \u001b[0my_tensor\u001b[0m\u001b[0;34m)\u001b[0m\u001b[0;34m\u001b[0m\u001b[0;34m\u001b[0m\u001b[0m\n\u001b[0m\u001b[1;32m      4\u001b[0m \u001b[0;34m\u001b[0m\u001b[0m\n\u001b[1;32m      5\u001b[0m \u001b[0;31m# Step 2: Shuffle the dataset indices\u001b[0m\u001b[0;34m\u001b[0m\u001b[0;34m\u001b[0m\u001b[0m\n",
            "\u001b[0;31mNameError\u001b[0m: name 'X_tensor' is not defined"
          ]
        }
      ],
      "source": [
        "from torch.utils.data import TensorDataset, Subset, random_split\n",
        "\n",
        "dataset = TensorDataset(X_tensor, y_tensor)\n",
        "\n",
        "# Step 2: Shuffle the dataset indices\n",
        "num_samples = len(dataset)\n",
        "shuffled_indices = torch.randperm(num_samples)\n",
        "\n",
        "# Step 3: Split the shuffled indices\n",
        "train_size = int(0.8 * num_samples)\n",
        "train_indices = shuffled_indices[:train_size]\n",
        "test_indices = shuffled_indices[train_size:]\n",
        "\n",
        "# Step 4: Create training and testing datasets directly\n",
        "X_train = X_tensor[train_indices]\n",
        "y_train = y_tensor[train_indices]\n",
        "X_test = X_tensor[test_indices]\n",
        "y_test = y_tensor[test_indices]\n",
        "\n",
        "#train_dataset = TensorDataset(X_train, y_train)\n",
        "#test_dataset = TensorDataset(X_test, y_test)"
      ]
    }
  ],
  "metadata": {
    "accelerator": "GPU",
    "colab": {
      "gpuType": "T4",
      "provenance": []
    },
    "kernelspec": {
      "display_name": "Python 3",
      "name": "python3"
    },
    "language_info": {
      "name": "python"
    }
  },
  "nbformat": 4,
  "nbformat_minor": 0
}
