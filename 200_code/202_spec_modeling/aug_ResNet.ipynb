{
  "cells": [
    {
      "cell_type": "code",
      "execution_count": 1,
      "metadata": {
        "id": "ua1hwIWxuDyA"
      },
      "outputs": [],
      "source": [
        "import pandas as pd\n",
        "import numpy as np\n",
        "from scipy.io import wavfile\n",
        "import matplotlib.pyplot as plt"
      ]
    },
    {
      "cell_type": "code",
      "execution_count": 2,
      "metadata": {
        "id": "RZSC56oSHvH2"
      },
      "outputs": [],
      "source": [
        "import torch\n",
        "import torchvision.models as models\n",
        "import torchvision.transforms as transforms\n",
        "from PIL import Image"
      ]
    },
    {
      "cell_type": "code",
      "execution_count": null,
      "metadata": {
        "colab": {
          "base_uri": "https://localhost:8080/"
        },
        "id": "sOSrBYjhuIsQ",
        "outputId": "0708d5f2-53a9-48a0-a0a6-00ece550e2b9"
      },
      "outputs": [
        {
          "data": {
            "text/plain": [
              "((4794, 128, 128, 3), (4794,))"
            ]
          },
          "execution_count": 3,
          "metadata": {},
          "output_type": "execute_result"
        }
      ],
      "source": [
        "img = np.load(\n",
        "    \"../../100_data/test_spec.npz\",\n",
        "    allow_pickle=True,\n",
        ")\n",
        "aug = np.load(\n",
        "    \"../201_processing/augmented_spec.npz\",\n",
        "    allow_pickle=True,\n",
        ")\n",
        "X_tr = aug['X_train']\n",
        "y_tr = aug['y_train']\n",
        "\n",
        "img_X = img['X']\n",
        "img_y = img['y']\n",
        "X_tr.shape, y_tr.shape"
      ]
    },
    {
      "cell_type": "code",
      "execution_count": 4,
      "metadata": {
        "id": "LXikUDroTYv7"
      },
      "outputs": [],
      "source": [
        "from sklearn.model_selection import train_test_split\n",
        "\n",
        "_, X_te, _, y_te = train_test_split(\n",
        "    img_X, img_y, test_size=0.2, random_state=42)"
      ]
    },
    {
      "cell_type": "code",
      "execution_count": 5,
      "metadata": {
        "colab": {
          "base_uri": "https://localhost:8080/"
        },
        "id": "L3jlrJtNF8Sg",
        "outputId": "3af124c2-153c-4ec3-8170-e5920cbb3925"
      },
      "outputs": [
        {
          "data": {
            "text/plain": [
              "(4794,)"
            ]
          },
          "execution_count": 5,
          "metadata": {},
          "output_type": "execute_result"
        }
      ],
      "source": [
        "genre_names = [\n",
        "    \"blues\",\n",
        "    \"classical\",\n",
        "    \"country\",\n",
        "    \"disco\",\n",
        "    \"hiphop\",\n",
        "    \"jazz\",\n",
        "    \"metal\",\n",
        "    \"pop\",\n",
        "    \"reggae\",\n",
        "    \"rock\",\n",
        "]\n",
        "\n",
        "# Get y train values from strings to ints\n",
        "genre_to_index = {genre: idx for idx, genre in enumerate(genre_names)}\n",
        "\n",
        "# Convert genre names to their numeric index\n",
        "y_tr = np.array([genre_to_index[genre] for genre in y_tr])\n",
        "y_tr.shape"
      ]
    },
    {
      "cell_type": "code",
      "execution_count": 6,
      "metadata": {
        "id": "LPyAN-zxHTcf"
      },
      "outputs": [],
      "source": [
        "X_train = torch.from_numpy(X_tr)\n",
        "# y_ohe_tr = torch.from_numpy(y_tr)\n",
        "y_train = torch.from_numpy(y_tr)\n",
        "\n",
        "X_test = torch.from_numpy(X_te)\n",
        "y_ohe_te = torch.from_numpy(y_te)\n",
        "y_test = torch.argmax(y_ohe_te, dim=1)"
      ]
    },
    {
      "cell_type": "code",
      "execution_count": 7,
      "metadata": {
        "colab": {
          "base_uri": "https://localhost:8080/"
        },
        "id": "sRmpqeNeGDFH",
        "outputId": "f02c3434-58cb-48ab-ea2c-72a507fbeb74"
      },
      "outputs": [
        {
          "data": {
            "text/plain": [
              "(torch.Size([4794, 3, 128, 128]), torch.Size([4794]))"
            ]
          },
          "execution_count": 7,
          "metadata": {},
          "output_type": "execute_result"
        }
      ],
      "source": [
        "X_train_perm = X_train.permute(\n",
        "    0, 3, 1, 2\n",
        ")  # This changes the shape to [799, 3, 128, 128]\n",
        "\n",
        "X_train_perm.shape, y_train.shape"
      ]
    },
    {
      "cell_type": "code",
      "execution_count": 8,
      "metadata": {
        "id": "Y4sm6n5HNfbX"
      },
      "outputs": [],
      "source": [
        "from torch.utils.data import TensorDataset\n",
        "\n",
        "train_dataset_n = TensorDataset(X_train_perm, y_train)\n",
        "\n",
        "X_test_perm = X_test.permute(0, 3, 1, 2)  # Reorder test data dimensions\n",
        "test_dataset = TensorDataset(X_test_perm, y_test)\n"
      ]
    },
    {
      "cell_type": "code",
      "execution_count": 9,
      "metadata": {
        "id": "yAnzTwK6LFuQ"
      },
      "outputs": [],
      "source": [
        "from torch.utils.data import DataLoader\n",
        "\n",
        "train_loader = DataLoader(train_dataset_n, batch_size=32, shuffle=True)\n",
        "test_loader = DataLoader(test_dataset, batch_size=32, shuffle=False)"
      ]
    },
    {
      "cell_type": "markdown",
      "metadata": {
        "id": "8waZWPqLqm8_"
      },
      "source": [
        "Mix (Some epochs, freeze all but last layer; other epochs, unfreeze everything)"
      ]
    },
    {
      "cell_type": "code",
      "execution_count": 10,
      "metadata": {
        "colab": {
          "base_uri": "https://localhost:8080/"
        },
        "id": "SM9NM71LpAhU",
        "outputId": "5f11ba93-8ac2-485c-b981-af86658feb58"
      },
      "outputs": [
        {
          "name": "stderr",
          "output_type": "stream",
          "text": [
            "/usr/local/lib/python3.11/dist-packages/torchvision/models/_utils.py:208: UserWarning: The parameter 'pretrained' is deprecated since 0.13 and may be removed in the future, please use 'weights' instead.\n",
            "  warnings.warn(\n",
            "/usr/local/lib/python3.11/dist-packages/torchvision/models/_utils.py:223: UserWarning: Arguments other than a weight enum or `None` for 'weights' are deprecated since 0.13 and may be removed in the future. The current behavior is equivalent to passing `weights=ResNet18_Weights.IMAGENET1K_V1`. You can also use `weights=ResNet18_Weights.DEFAULT` to get the most up-to-date weights.\n",
            "  warnings.warn(msg)\n",
            "Downloading: \"https://download.pytorch.org/models/resnet18-f37072fd.pth\" to /root/.cache/torch/hub/checkpoints/resnet18-f37072fd.pth\n",
            "100%|██████████| 44.7M/44.7M [00:00<00:00, 99.1MB/s]\n"
          ]
        },
        {
          "name": "stdout",
          "output_type": "stream",
          "text": [
            "Frozen Epoch [1/15], Loss: 1.8002, Accuracy: 37.88%\n",
            "Frozen Epoch [2/15], Loss: 1.3615, Accuracy: 53.96%\n",
            "Frozen Epoch [3/15], Loss: 1.2251, Accuracy: 58.34%\n",
            "Frozen Epoch [4/15], Loss: 1.1559, Accuracy: 60.72%\n",
            "Frozen Epoch [5/15], Loss: 1.1116, Accuracy: 61.95%\n",
            "Frozen Epoch [6/15], Loss: 1.0445, Accuracy: 64.54%\n",
            "Frozen Epoch [7/15], Loss: 1.0275, Accuracy: 64.98%\n",
            "Frozen Epoch [8/15], Loss: 1.0048, Accuracy: 65.37%\n",
            "Frozen Epoch [9/15], Loss: 1.0048, Accuracy: 65.58%\n",
            "Frozen Epoch [10/15], Loss: 0.9820, Accuracy: 67.38%\n",
            "Frozen Epoch [11/15], Loss: 0.9515, Accuracy: 67.40%\n",
            "Frozen Epoch [12/15], Loss: 0.9385, Accuracy: 67.42%\n",
            "Frozen Epoch [13/15], Loss: 0.9237, Accuracy: 68.09%\n",
            "Frozen Epoch [14/15], Loss: 0.9200, Accuracy: 68.52%\n",
            "Frozen Epoch [15/15], Loss: 0.9382, Accuracy: 67.98%\n",
            "Unfrozen Epoch [1/5], Loss: 0.7869, Accuracy: 72.86%\n",
            "Unfrozen Epoch [2/5], Loss: 0.4736, Accuracy: 85.79%\n",
            "Unfrozen Epoch [3/5], Loss: 0.3187, Accuracy: 92.26%\n",
            "Unfrozen Epoch [4/5], Loss: 0.2109, Accuracy: 96.25%\n",
            "Unfrozen Epoch [5/5], Loss: 0.1536, Accuracy: 98.02%\n",
            "Fine-tuning complete.\n"
          ]
        }
      ],
      "source": [
        "import torch\n",
        "import torch.nn as nn\n",
        "import torch.optim as optim\n",
        "from torchvision import models\n",
        "\n",
        "res1 = models.resnet18(pretrained=True)\n",
        "res1.fc = torch.nn.Linear(res1.fc.in_features, 10) # 10 genres\n",
        "\n",
        "for param in res1.parameters():\n",
        "    param.requires_grad = False # Freeze all layers\n",
        "\n",
        "for param in res1.fc.parameters():\n",
        "  param.requires_grad = True # Unfreeze last layer\n",
        "\n",
        "\n",
        "# Move model to GPU if available\n",
        "device = torch.device(\"cuda\" if torch.cuda.is_available() else \"cpu\")\n",
        "res1 = res1.to(device)\n",
        "\n",
        "# 1. Loss function and optimizer\n",
        "criterion = nn.CrossEntropyLoss()\n",
        "optimizer = optim.Adam(res1.fc.parameters(), lr=0.001)  # fine-tune only last layer\n",
        "\n",
        "# 2. Training loop\n",
        "num_frozen_epochs = 15\n",
        "\n",
        "for epoch in range(num_frozen_epochs):\n",
        "    res1.train()\n",
        "    running_loss = 0.0\n",
        "    correct = 0\n",
        "    total = 0\n",
        "\n",
        "    for images, labels in train_loader:\n",
        "        images = images.to(device).type(torch.float32)\n",
        "        labels = labels.to(device)\n",
        "\n",
        "        # Zero the gradients\n",
        "        optimizer.zero_grad()\n",
        "\n",
        "        # Forward pass\n",
        "        outputs = res1(images)\n",
        "\n",
        "        # Loss calculation\n",
        "        loss = criterion(outputs, labels)\n",
        "\n",
        "        # Backward pass and optimization\n",
        "        loss.backward()\n",
        "        optimizer.step()\n",
        "\n",
        "        running_loss += loss.item()\n",
        "        _, predicted = torch.max(outputs.data, 1)\n",
        "        total += labels.size(0)\n",
        "        correct += (predicted == labels).sum().item()\n",
        "\n",
        "    epoch_loss = running_loss / len(train_loader)\n",
        "    epoch_acc = 100 * correct / total\n",
        "    print(f\"Frozen Epoch [{epoch+1}/{num_frozen_epochs}], Loss: {epoch_loss:.4f}, Accuracy: {epoch_acc:.2f}%\")\n",
        "\n",
        "for param in res1.parameters():\n",
        "    param.requires_grad = True # Unfreeze all layers\n",
        "\n",
        "num_unfrozen_epochs = 5\n",
        "optimizer = optim.Adam(res1.parameters(), lr=0.00001) # fine-tune all\n",
        "\n",
        "for param in res1.parameters():\n",
        "    param.requires_grad = True\n",
        "\n",
        "for epoch in range(num_unfrozen_epochs):\n",
        "    res1.train()\n",
        "    running_loss = 0.0\n",
        "    correct = 0\n",
        "    total = 0\n",
        "\n",
        "    for images, labels in train_loader:\n",
        "        images = images.to(device).type(torch.float32)\n",
        "        labels = labels.to(device)\n",
        "\n",
        "        # Zero the gradients\n",
        "        optimizer.zero_grad()\n",
        "\n",
        "        # Forward pass\n",
        "        outputs = res1(images)\n",
        "\n",
        "        # Loss calculation\n",
        "        loss = criterion(outputs, labels)\n",
        "\n",
        "        # Backward pass and optimization\n",
        "        loss.backward()\n",
        "        optimizer.step()\n",
        "\n",
        "        running_loss += loss.item()\n",
        "        _, predicted = torch.max(outputs.data, 1)\n",
        "        total += labels.size(0)\n",
        "        correct += (predicted == labels).sum().item()\n",
        "\n",
        "    epoch_loss = running_loss / len(train_loader)\n",
        "    epoch_acc = 100 * correct / total\n",
        "    print(f\"Unfrozen Epoch [{epoch+1}/{num_unfrozen_epochs}], Loss: {epoch_loss:.4f}, Accuracy: {epoch_acc:.2f}%\")\n",
        "\n",
        "print(\"Fine-tuning complete.\")"
      ]
    },
    {
      "cell_type": "code",
      "execution_count": 11,
      "metadata": {
        "colab": {
          "base_uri": "https://localhost:8080/"
        },
        "id": "-lD85y1Yrbsj",
        "outputId": "11d38082-f61e-450f-827c-b95cfef045ed"
      },
      "outputs": [
        {
          "name": "stdout",
          "output_type": "stream",
          "text": [
            "Accuracy: 67.00%\n"
          ]
        }
      ],
      "source": [
        "# Testing\n",
        "res1.eval()\n",
        "\n",
        "with torch.no_grad():\n",
        "    outputs = res1(X_test_perm.to(device).type(torch.float32))\n",
        "    _, predicted = torch.max(outputs.data, 1)\n",
        "    total = y_test.size(0)\n",
        "    correct = (predicted == y_test.to(device)).sum()\n",
        "    acc = 100 * correct / total\n",
        "    print(f\"Accuracy: {acc:.2f}%\")"
      ]
    },
    {
      "cell_type": "code",
      "execution_count": 12,
      "metadata": {
        "colab": {
          "base_uri": "https://localhost:8080/",
          "height": 794
        },
        "id": "nVnyvA3LrwWl",
        "outputId": "1a374ecb-8e5f-4555-d06d-b85b2e1fdafc"
      },
      "outputs": [
        {
          "name": "stdout",
          "output_type": "stream",
          "text": [
            "              precision    recall  f1-score   support\n",
            "\n",
            "       blues       0.54      0.71      0.61        21\n",
            "   classical       0.71      1.00      0.83        12\n",
            "     country       0.60      0.50      0.55        24\n",
            "       disco       0.59      0.45      0.51        22\n",
            "      hiphop       0.75      0.80      0.77        15\n",
            "        jazz       0.93      0.93      0.93        27\n",
            "       metal       0.83      0.83      0.83        18\n",
            "         pop       0.68      0.79      0.73        19\n",
            "      reggae       0.57      0.55      0.56        22\n",
            "        rock       0.43      0.30      0.35        20\n",
            "\n",
            "    accuracy                           0.67       200\n",
            "   macro avg       0.66      0.69      0.67       200\n",
            "weighted avg       0.66      0.67      0.66       200\n",
            "\n"
          ]
        },
        {
          "data": {
            "image/png": "[encoded data removed]",
            "text/plain": [
              "<Figure size 640x480 with 2 Axes>"
            ]
          },
          "metadata": {},
          "output_type": "display_data"
        }
      ],
      "source": [
        "from sklearn.metrics import confusion_matrix, classification_report, ConfusionMatrixDisplay\n",
        "\n",
        "actual = y_test.cpu().numpy()\n",
        "preds = predicted.cpu().numpy()\n",
        "\n",
        "print(classification_report(actual, preds, target_names=genre_names))\n",
        "cm  = confusion_matrix(actual, preds)\n",
        "disp = ConfusionMatrixDisplay(confusion_matrix=cm, display_labels=genre_names)\n",
        "disp.plot()\n",
        "plt.xticks(rotation=90)\n",
        "plt.show()"
      ]
    },
    {
      "cell_type": "markdown",
      "metadata": {
        "id": "Qik7pQpXUhNI"
      },
      "source": [
        "Old Stuff"
      ]
    },
    {
      "cell_type": "code",
      "execution_count": null,
      "metadata": {
        "colab": {
          "base_uri": "https://localhost:8080/",
          "height": 211
        },
        "id": "cUzTWOidUhwt",
        "outputId": "90beda7e-fde9-4fb5-8d82-d330c4820902"
      },
      "outputs": [
        {
          "ename": "NameError",
          "evalue": "name 'X_tensor' is not defined",
          "output_type": "error",
          "traceback": [
            "\u001b[0;31m---------------------------------------------------------------------------\u001b[0m",
            "\u001b[0;31mNameError\u001b[0m                                 Traceback (most recent call last)",
            "\u001b[0;32m<ipython-input-12-a185e2f3d2f1>\u001b[0m in \u001b[0;36m<cell line: 0>\u001b[0;34m()\u001b[0m\n\u001b[1;32m      1\u001b[0m \u001b[0;32mfrom\u001b[0m \u001b[0mtorch\u001b[0m\u001b[0;34m.\u001b[0m\u001b[0mutils\u001b[0m\u001b[0;34m.\u001b[0m\u001b[0mdata\u001b[0m \u001b[0;32mimport\u001b[0m \u001b[0mTensorDataset\u001b[0m\u001b[0;34m,\u001b[0m \u001b[0mSubset\u001b[0m\u001b[0;34m,\u001b[0m \u001b[0mrandom_split\u001b[0m\u001b[0;34m\u001b[0m\u001b[0;34m\u001b[0m\u001b[0m\n\u001b[1;32m      2\u001b[0m \u001b[0;34m\u001b[0m\u001b[0m\n\u001b[0;32m----> 3\u001b[0;31m \u001b[0mdataset\u001b[0m \u001b[0;34m=\u001b[0m \u001b[0mTensorDataset\u001b[0m\u001b[0;34m(\u001b[0m\u001b[0mX_tensor\u001b[0m\u001b[0;34m,\u001b[0m \u001b[0my_tensor\u001b[0m\u001b[0;34m)\u001b[0m\u001b[0;34m\u001b[0m\u001b[0;34m\u001b[0m\u001b[0m\n\u001b[0m\u001b[1;32m      4\u001b[0m \u001b[0;34m\u001b[0m\u001b[0m\n\u001b[1;32m      5\u001b[0m \u001b[0;31m# Step 2: Shuffle the dataset indices\u001b[0m\u001b[0;34m\u001b[0m\u001b[0;34m\u001b[0m\u001b[0m\n",
            "\u001b[0;31mNameError\u001b[0m: name 'X_tensor' is not defined"
          ]
        }
      ],
      "source": [
        "from torch.utils.data import TensorDataset, Subset, random_split\n",
        "\n",
        "dataset = TensorDataset(X_tensor, y_tensor)\n",
        "\n",
        "# Step 2: Shuffle the dataset indices\n",
        "num_samples = len(dataset)\n",
        "shuffled_indices = torch.randperm(num_samples)\n",
        "\n",
        "# Step 3: Split the shuffled indices\n",
        "train_size = int(0.8 * num_samples)\n",
        "train_indices = shuffled_indices[:train_size]\n",
        "test_indices = shuffled_indices[train_size:]\n",
        "\n",
        "# Step 4: Create training and testing datasets directly\n",
        "X_train = X_tensor[train_indices]\n",
        "y_train = y_tensor[train_indices]\n",
        "X_test = X_tensor[test_indices]\n",
        "y_test = y_tensor[test_indices]\n",
        "\n",
        "#train_dataset = TensorDataset(X_train, y_train)\n",
        "#test_dataset = TensorDataset(X_test, y_test)"
      ]
    }
  ],
  "metadata": {
    "accelerator": "GPU",
    "colab": {
      "gpuType": "T4",
      "provenance": []
    },
    "kernelspec": {
      "display_name": "Python 3",
      "name": "python3"
    },
    "language_info": {
      "name": "python"
    }
  },
  "nbformat": 4,
  "nbformat_minor": 0
}
