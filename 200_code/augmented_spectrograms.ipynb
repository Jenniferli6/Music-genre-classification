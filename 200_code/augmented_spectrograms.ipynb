{
 "cells": [
  {
   "cell_type": "code",
   "execution_count": 9,
   "metadata": {},
   "outputs": [],
   "source": [
    "import os\n",
    "import librosa\n",
    "import numpy as np\n",
    "import matplotlib.pyplot as plt\n",
    "import cv2\n",
    "from tqdm import tqdm\n",
    "\n",
    "from sklearn.model_selection import train_test_split"
   ]
  },
  {
   "cell_type": "markdown",
   "metadata": {},
   "source": [
    "# Augment Spectrogram Training Data\n",
    "This script will increase the training data by 6 fold, implementing the stretch factors 0.81, 0.93, 1.07, 1.23 and a shift factor of 5."
   ]
  },
  {
   "cell_type": "code",
   "execution_count": 17,
   "metadata": {},
   "outputs": [],
   "source": [
    "\n",
    "# setup parameters\n",
    "    ## local path to directory\n",
    "input_folder = '/Users/jahnavimaddhuri/Downloads/musicgenreclassification/genres_original/'\n",
    "sample_rate = 22050\n",
    "stretch_rates = [0.81, 0.93, 1.07, 1.23]\n",
    "time_shift_seconds = 5\n",
    "output_npz = 'augmented_spec.npz'\n",
    "\n",
    "# create file list of train/test data\n",
    "files = []\n",
    "y = []\n",
    "genre_names = [\n",
    "    \"blues\",\n",
    "    \"classical\",\n",
    "    \"country\",\n",
    "    \"disco\",\n",
    "    \"hiphop\",\n",
    "    \"jazz\",\n",
    "    \"metal\",\n",
    "    \"pop\",\n",
    "    \"reggae\",\n",
    "    \"rock\",\n",
    "]\n",
    "for genre in genre_names:\n",
    "    files += [f'{genre}.{i:05}.wav' for i in range(100)]\n",
    "    y += [genre] * 100\n",
    "\n",
    "files_train, files_test, y_train, y_test = train_test_split(\n",
    "    np.array(files), np.array(y), test_size=0.2, random_state=42, shuffle=True\n",
    ")"
   ]
  },
  {
   "cell_type": "code",
   "execution_count": 27,
   "metadata": {},
   "outputs": [],
   "source": [
    "def audio_to_rgb(data, sr):\n",
    "    '''Convert audio to RGB spectrogram.\n",
    "    S_rgb: (128, 128, 3)'''\n",
    "    S = librosa.feature.melspectrogram(y=data, sr=sr, n_mels=128, n_fft=2048, hop_length=512, fmax=8000)\n",
    "    S_dB = librosa.power_to_db(S, ref=np.max)\n",
    "    resized = cv2.resize(S_dB, (128, 128), interpolation=cv2.INTER_CUBIC)\n",
    "    S_norm = (resized - resized.min()) / (resized.max() - resized.min())\n",
    "    S_rgb = plt.get_cmap(\"magma\")(S_norm)[:, :, :3]\n",
    "    return S_rgb\n",
    "\n",
    "def time_shift(data, sr, seconds):\n",
    "    '''Shift audio data by a given number of seconds.'''\n",
    "    shift = int(sr * seconds)\n",
    "    return np.roll(data, shift)\n",
    "\n",
    "def time_stretch_f(data, rate, target_len):\n",
    "    '''Stretch audio data by a given rate. Maintain audio length.'''\n",
    "    stretched = librosa.effects.time_stretch(data, rate=rate)\n",
    "    if len(stretched) > target_len:\n",
    "        return stretched[:target_len]\n",
    "    else:\n",
    "        return np.pad(stretched, (0, target_len - len(stretched)))"
   ]
  },
  {
   "cell_type": "code",
   "execution_count": 28,
   "metadata": {},
   "outputs": [],
   "source": [
    "spectrogram_augmented = []\n",
    "labels = []\n",
    "\n",
    "for i, f in enumerate(files_train):\n",
    "    genre = y_train[i]\n",
    "    filepath = input_folder + genre + '/' + f\n",
    "    data, sr = librosa.load(filepath, sr=sample_rate)\n",
    "    input_len = len(data)\n",
    "\n",
    "    # Original\n",
    "    spectrogram_augmented.append(audio_to_rgb(data, sr))\n",
    "    labels.append(genre)\n",
    "\n",
    "    # Time-shifted\n",
    "    shifted = time_shift(data, sr, time_shift_seconds)\n",
    "    spectrogram_augmented.append(audio_to_rgb(shifted[:input_len], sr))\n",
    "    labels.append(genre)\n",
    "\n",
    "    # Time-stretched\n",
    "    for rate in stretch_rates:\n",
    "        stretched = time_stretch_f(data, rate, input_len)\n",
    "        spectrogram_augmented.append(audio_to_rgb(stretched, sr))\n",
    "        labels.append(genre)\n"
   ]
  },
  {
   "cell_type": "code",
   "execution_count": 29,
   "metadata": {},
   "outputs": [
    {
     "name": "stdout",
     "output_type": "stream",
     "text": [
      "Shape of first spectrogram:\n",
      "(128, 128, 3)\n",
      "Lengths of spectrogram and labels:\n",
      "4800\n",
      "4800\n",
      "First of each:\n",
      "[[[0.113094 0.065492 0.276784]\n",
      "  [0.12938  0.067935 0.305443]\n",
      "  [0.118405 0.066479 0.286321]\n",
      "  ...\n",
      "  [0.069764 0.049726 0.193735]\n",
      "  [0.06533  0.047318 0.184892]\n",
      "  [0.00595  0.004843 0.03713 ]]\n",
      "\n",
      " [[0.372116 0.092816 0.499053]\n",
      "  [0.310382 0.069702 0.483186]\n",
      "  [0.396467 0.102902 0.502658]\n",
      "  ...\n",
      "  [0.335308 0.078236 0.491024]\n",
      "  [0.594508 0.175701 0.501241]\n",
      "  [0.372116 0.092816 0.499053]]\n",
      "\n",
      " [[0.613617 0.181811 0.498536]\n",
      "  [0.716387 0.214982 0.47529 ]\n",
      "  [0.96331  0.42539  0.359469]\n",
      "  ...\n",
      "  [0.639216 0.189921 0.49415 ]\n",
      "  [0.792427 0.244242 0.447543]\n",
      "  [0.52527  0.152569 0.507192]]\n",
      "\n",
      " ...\n",
      "\n",
      " [[0.245543 0.059352 0.448436]\n",
      "  [0.060949 0.044794 0.176129]\n",
      "  [0.29774  0.066117 0.478243]\n",
      "  ...\n",
      "  [0.384299 0.097855 0.501002]\n",
      "  [0.245543 0.059352 0.448436]\n",
      "  [0.245543 0.059352 0.448436]]\n",
      "\n",
      " [[0.211718 0.061992 0.418647]\n",
      "  [0.021692 0.01832  0.09261 ]\n",
      "  [0.211718 0.061992 0.418647]\n",
      "  ...\n",
      "  [0.366012 0.090314 0.49796 ]\n",
      "  [0.284951 0.063168 0.472451]\n",
      "  [0.258857 0.059706 0.45771 ]]\n",
      "\n",
      " [[0.152839 0.068637 0.343404]\n",
      "  [0.056615 0.04216  0.167446]\n",
      "  [0.304081 0.067835 0.480812]\n",
      "  ...\n",
      "  [0.384299 0.097855 0.501002]\n",
      "  [0.278493 0.061978 0.46919 ]\n",
      "  [0.19146  0.064818 0.396152]]]\n",
      "blues\n"
     ]
    }
   ],
   "source": [
    "print('Shape of first spectrogram:')\n",
    "print(spectrogram_augmented[0].shape)\n",
    "print('Lengths of spectrogram and labels:')\n",
    "print(len(spectrogram_augmented))\n",
    "print(len(labels))\n",
    "\n",
    "print('First of each:')\n",
    "print(spectrogram_augmented[0])\n",
    "print(labels[0])"
   ]
  },
  {
   "cell_type": "code",
   "execution_count": 30,
   "metadata": {},
   "outputs": [
    {
     "name": "stdout",
     "output_type": "stream",
     "text": [
      "Saved 4800 spectrograms to augmented_spec.npz\n"
     ]
    }
   ],
   "source": [
    "# Save to .npz\n",
    "X_train = np.array(spectrogram_augmented)\n",
    "y_train = np.array(labels)\n",
    "np.savez(output_npz, X_train=X_train, y_train=y_train)\n",
    "\n",
    "print(f\"Saved {X_train.shape[0]} spectrograms to {output_npz}\")"
   ]
  },
  {
   "cell_type": "code",
   "execution_count": null,
   "metadata": {},
   "outputs": [],
   "source": []
  }
 ],
 "metadata": {
  "kernelspec": {
   "display_name": "base",
   "language": "python",
   "name": "python3"
  },
  "language_info": {
   "codemirror_mode": {
    "name": "ipython",
    "version": 3
   },
   "file_extension": ".py",
   "mimetype": "text/x-python",
   "name": "python",
   "nbconvert_exporter": "python",
   "pygments_lexer": "ipython3",
   "version": "3.12.4"
  }
 },
 "nbformat": 4,
 "nbformat_minor": 2
}
