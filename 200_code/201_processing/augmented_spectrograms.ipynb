{
 "cells": [
  {
   "cell_type": "code",
   "execution_count": 12,
   "metadata": {},
   "outputs": [],
   "source": [
    "import os\n",
    "import librosa\n",
    "import numpy as np\n",
    "import matplotlib.pyplot as plt\n",
    "import cv2\n",
    "from tqdm import tqdm\n",
    "\n",
    "from sklearn.model_selection import train_test_split"
   ]
  },
  {
   "cell_type": "markdown",
   "metadata": {},
   "source": [
    "# Augment Spectrogram Training Data\n",
    "This script will increase the training data by 6 fold, implementing the stretch factors 0.81, 0.93, 1.07, 1.23 and a shift factor of 5."
   ]
  },
  {
   "cell_type": "code",
   "execution_count": null,
   "metadata": {},
   "outputs": [],
   "source": [
    "# setup parameters\n",
    "# Local path to directory. \n",
    "# For some reason ~/Downloads doesn't seem to work.\n",
    "# PLEASE CHANGE TO YOUR OWN DOWNLOADS DIRECTORY ABSOLUTE PATH.\n",
    "input_folder = '/Users/jahnavimaddhuri/Downloads/musicgenreclassification/genres_original/'\n",
    "sample_rate = 22050\n",
    "stretch_rates = [0.81, 0.93, 1.07, 1.23]\n",
    "time_shift_seconds = 5\n",
    "output_npz = 'augmented_spec.npz'\n",
    "\n",
    "# create file list of train/test data\n",
    "files = []\n",
    "y = []\n",
    "genre_names = [\n",
    "    \"blues\",\n",
    "    \"classical\",\n",
    "    \"country\",\n",
    "    \"disco\",\n",
    "    \"hiphop\",\n",
    "    \"jazz\",\n",
    "    \"metal\",\n",
    "    \"pop\",\n",
    "    \"reggae\",\n",
    "    \"rock\",\n",
    "]\n",
    "for genre in genre_names:\n",
    "    files += [f'{genre}.{i:05}.wav' for i in range(100)]\n",
    "    y += [genre] * 100\n",
    "\n",
    "# remove jazz 54 bc corrupted\n",
    "files = files[:554] + files[555:]\n",
    "y = y[:554] + y[555:]\n",
    "\n",
    "files_train, files_test, y_train, y_test = train_test_split(\n",
    "    np.array(files), np.array(y), test_size=0.2, random_state=42, shuffle=True\n",
    ")"
   ]
  },
  {
   "cell_type": "code",
   "execution_count": 15,
   "metadata": {},
   "outputs": [],
   "source": [
    "def audio_to_rgb(data, sr):\n",
    "    '''Convert audio to RGB spectrogram.\n",
    "    S_rgb: (128, 128, 3)'''\n",
    "    S = librosa.feature.melspectrogram(y=data, sr=sr, n_mels=128, n_fft=2048, hop_length=512, fmax=8000)\n",
    "    S_dB = librosa.power_to_db(S, ref=np.max)\n",
    "    resized = cv2.resize(S_dB, (128, 128), interpolation=cv2.INTER_CUBIC)\n",
    "    S_norm = (resized - resized.min()) / (resized.max() - resized.min())\n",
    "    S_rgb = plt.get_cmap(\"magma\")(S_norm)[:, :, :3]\n",
    "    return S_rgb\n",
    "\n",
    "def time_shift(data, sr, seconds):\n",
    "    '''Shift audio data by a given number of seconds.'''\n",
    "    shift = int(sr * seconds)\n",
    "    return np.roll(data, shift)\n",
    "\n",
    "def time_stretch_f(data, rate, target_len):\n",
    "    '''Stretch audio data by a given rate. Maintain audio length.'''\n",
    "    stretched = librosa.effects.time_stretch(data, rate=rate)\n",
    "    if len(stretched) > target_len:\n",
    "        return stretched[:target_len]\n",
    "    else:\n",
    "        return np.pad(stretched, (0, target_len - len(stretched)))"
   ]
  },
  {
   "cell_type": "code",
   "execution_count": 16,
   "metadata": {},
   "outputs": [],
   "source": [
    "spectrogram_augmented = []\n",
    "labels = []\n",
    "\n",
    "for i, f in enumerate(files_train):\n",
    "    genre = y_train[i]\n",
    "    filepath = input_folder + genre + '/' + f\n",
    "    data, sr = librosa.load(filepath, sr=sample_rate)\n",
    "    input_len = len(data)\n",
    "\n",
    "    # Original\n",
    "    spectrogram_augmented.append(audio_to_rgb(data, sr))\n",
    "    labels.append(genre)\n",
    "\n",
    "    # Time-shifted\n",
    "    shifted = time_shift(data, sr, time_shift_seconds)\n",
    "    spectrogram_augmented.append(audio_to_rgb(shifted[:input_len], sr))\n",
    "    labels.append(genre)\n",
    "\n",
    "    # Time-stretched\n",
    "    for rate in stretch_rates:\n",
    "        stretched = time_stretch_f(data, rate, input_len)\n",
    "        spectrogram_augmented.append(audio_to_rgb(stretched, sr))\n",
    "        labels.append(genre)\n"
   ]
  },
  {
   "cell_type": "code",
   "execution_count": 18,
   "metadata": {},
   "outputs": [
    {
     "name": "stdout",
     "output_type": "stream",
     "text": [
      "Shape of first spectrogram:\n",
      "(128, 128, 3)\n",
      "Lengths of spectrogram and labels:\n",
      "4794\n",
      "4794\n",
      "First of each:\n",
      "[[[0.786212 0.241514 0.450184]\n",
      "  [0.779968 0.238851 0.452765]\n",
      "  [0.792427 0.244242 0.447543]\n",
      "  ...\n",
      "  [0.754737 0.228772 0.462509]\n",
      "  [0.761077 0.231214 0.460162]\n",
      "  [0.767398 0.233705 0.457755]]\n",
      "\n",
      " [[0.735616 0.221713 0.46918 ]\n",
      "  [0.488088 0.139186 0.508011]\n",
      "  [0.652056 0.193986 0.491611]\n",
      "  ...\n",
      "  [0.488088 0.139186 0.508011]\n",
      "  [0.488088 0.139186 0.508011]\n",
      "  [0.310382 0.069702 0.483186]]\n",
      "\n",
      " [[0.99581  0.646344 0.441361]\n",
      "  [0.761077 0.231214 0.460162]\n",
      "  [0.996341 0.660969 0.45116 ]\n",
      "  ...\n",
      "  [0.852126 0.276106 0.418573]\n",
      "  [0.904281 0.31961  0.388137]\n",
      "  [0.921884 0.341098 0.377376]]\n",
      "\n",
      " ...\n",
      "\n",
      " [[0.238826 0.059517 0.443256]\n",
      "  [0.178212 0.066576 0.379497]\n",
      "  [0.291366 0.064553 0.475462]\n",
      "  ...\n",
      "  [0.271994 0.060994 0.46566 ]\n",
      "  [0.556571 0.163269 0.50523 ]\n",
      "  [0.25222  0.059415 0.453248]]\n",
      "\n",
      " [[0.159018 0.068354 0.352688]\n",
      "  [0.204935 0.062907 0.411514]\n",
      "  [0.291366 0.064553 0.475462]\n",
      "  ...\n",
      "  [0.316654 0.07169  0.48538 ]\n",
      "  [0.57549  0.16953  0.503466]\n",
      "  [0.284951 0.063168 0.472451]]\n",
      "\n",
      " [[0.184801 0.065732 0.387973]\n",
      "  [0.225302 0.060445 0.431742]\n",
      "  [0.353773 0.085373 0.495501]\n",
      "  ...\n",
      "  [0.310382 0.069702 0.483186]\n",
      "  [0.537755 0.156894 0.506551]\n",
      "  [0.211718 0.061992 0.418647]]]\n",
      "pop\n"
     ]
    }
   ],
   "source": [
    "print('Shape of first spectrogram:')\n",
    "print(spectrogram_augmented[0].shape)\n",
    "print('Lengths of spectrogram and labels:')\n",
    "print(len(spectrogram_augmented))\n",
    "print(len(labels))\n",
    "\n",
    "print('First of each:')\n",
    "print(spectrogram_augmented[0])\n",
    "print(labels[0])"
   ]
  },
  {
   "cell_type": "code",
   "execution_count": null,
   "metadata": {},
   "outputs": [
    {
     "name": "stdout",
     "output_type": "stream",
     "text": [
      "Saved 4794 spectrograms to augmented_spec.npz\n"
     ]
    }
   ],
   "source": [
    "# Save to .npz. File is too big so it's not on GH!\n",
    "X_train = np.array(spectrogram_augmented)\n",
    "y_train = np.array(labels)\n",
    "np.savez(output_npz, X_train=X_train, y_train=y_train)\n",
    "\n",
    "print(f\"Saved {X_train.shape[0]} spectrograms to {output_npz}\")"
   ]
  },
  {
   "cell_type": "code",
   "execution_count": null,
   "metadata": {},
   "outputs": [],
   "source": []
  }
 ],
 "metadata": {
  "kernelspec": {
   "display_name": "base",
   "language": "python",
   "name": "python3"
  },
  "language_info": {
   "codemirror_mode": {
    "name": "ipython",
    "version": 3
   },
   "file_extension": ".py",
   "mimetype": "text/x-python",
   "name": "python",
   "nbconvert_exporter": "python",
   "pygments_lexer": "ipython3",
   "version": "3.12.8"
  }
 },
 "nbformat": 4,
 "nbformat_minor": 2
}
